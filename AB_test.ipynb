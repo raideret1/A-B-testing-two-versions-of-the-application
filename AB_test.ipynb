{
 "cells": [
  {
   "cell_type": "markdown",
   "id": "8c661007",
   "metadata": {},
   "source": [
    "Імпорт необхідних бібліотек"
   ]
  },
  {
   "cell_type": "code",
   "execution_count": 1,
   "id": "41df7e7a",
   "metadata": {},
   "outputs": [],
   "source": [
    "import numpy as np\n",
    "import pandas as pd\n",
    "%matplotlib inline \n",
    "import matplotlib.pyplot as plt\n",
    "import seaborn as sns\n",
    "from scipy.stats import ttest_ind\n",
    "from datetime import datetime\n",
    "from scipy import stats"
   ]
  },
  {
   "cell_type": "markdown",
   "id": "bb362e0f",
   "metadata": {},
   "source": [
    "Завантаження датасету та його огляд"
   ]
  },
  {
   "cell_type": "code",
   "execution_count": 2,
   "id": "97b30a4c",
   "metadata": {},
   "outputs": [],
   "source": [
    "data = pd.read_csv(r\"C:\\Users\\38063\\Downloads\\Test_task_Analyst_App.csv\", sep=';')"
   ]
  },
  {
   "cell_type": "code",
   "execution_count": 3,
   "id": "474fbefd",
   "metadata": {},
   "outputs": [
    {
     "data": {
      "text/html": [
       "<div>\n",
       "<style scoped>\n",
       "    .dataframe tbody tr th:only-of-type {\n",
       "        vertical-align: middle;\n",
       "    }\n",
       "\n",
       "    .dataframe tbody tr th {\n",
       "        vertical-align: top;\n",
       "    }\n",
       "\n",
       "    .dataframe thead th {\n",
       "        text-align: right;\n",
       "    }\n",
       "</style>\n",
       "<table border=\"1\" class=\"dataframe\">\n",
       "  <thead>\n",
       "    <tr style=\"text-align: right;\">\n",
       "      <th></th>\n",
       "      <th>sender_id</th>\n",
       "      <th>platform_id</th>\n",
       "      <th>time_stamp</th>\n",
       "      <th>gender</th>\n",
       "      <th>reg_date</th>\n",
       "    </tr>\n",
       "  </thead>\n",
       "  <tbody>\n",
       "    <tr>\n",
       "      <th>0</th>\n",
       "      <td>3207526951</td>\n",
       "      <td>6</td>\n",
       "      <td>16.03.2017 13:35</td>\n",
       "      <td>m</td>\n",
       "      <td>26.01.2017</td>\n",
       "    </tr>\n",
       "    <tr>\n",
       "      <th>1</th>\n",
       "      <td>3207526951</td>\n",
       "      <td>6</td>\n",
       "      <td>16.03.2017 9:09</td>\n",
       "      <td>m</td>\n",
       "      <td>26.01.2017</td>\n",
       "    </tr>\n",
       "    <tr>\n",
       "      <th>2</th>\n",
       "      <td>3207526951</td>\n",
       "      <td>6</td>\n",
       "      <td>16.03.2017 9:09</td>\n",
       "      <td>m</td>\n",
       "      <td>26.01.2017</td>\n",
       "    </tr>\n",
       "    <tr>\n",
       "      <th>3</th>\n",
       "      <td>3207526951</td>\n",
       "      <td>6</td>\n",
       "      <td>16.03.2017 12:13</td>\n",
       "      <td>m</td>\n",
       "      <td>26.01.2017</td>\n",
       "    </tr>\n",
       "    <tr>\n",
       "      <th>4</th>\n",
       "      <td>3207526951</td>\n",
       "      <td>6</td>\n",
       "      <td>15.03.2017 14:01</td>\n",
       "      <td>m</td>\n",
       "      <td>26.01.2017</td>\n",
       "    </tr>\n",
       "  </tbody>\n",
       "</table>\n",
       "</div>"
      ],
      "text/plain": [
       "    sender_id  platform_id        time_stamp gender    reg_date\n",
       "0  3207526951            6  16.03.2017 13:35      m  26.01.2017\n",
       "1  3207526951            6   16.03.2017 9:09      m  26.01.2017\n",
       "2  3207526951            6   16.03.2017 9:09      m  26.01.2017\n",
       "3  3207526951            6  16.03.2017 12:13      m  26.01.2017\n",
       "4  3207526951            6  15.03.2017 14:01      m  26.01.2017"
      ]
     },
     "execution_count": 3,
     "metadata": {},
     "output_type": "execute_result"
    }
   ],
   "source": [
    "data.head()"
   ]
  },
  {
   "cell_type": "code",
   "execution_count": 4,
   "id": "82723ba6",
   "metadata": {},
   "outputs": [
    {
     "data": {
      "text/html": [
       "<div>\n",
       "<style scoped>\n",
       "    .dataframe tbody tr th:only-of-type {\n",
       "        vertical-align: middle;\n",
       "    }\n",
       "\n",
       "    .dataframe tbody tr th {\n",
       "        vertical-align: top;\n",
       "    }\n",
       "\n",
       "    .dataframe thead th {\n",
       "        text-align: right;\n",
       "    }\n",
       "</style>\n",
       "<table border=\"1\" class=\"dataframe\">\n",
       "  <thead>\n",
       "    <tr style=\"text-align: right;\">\n",
       "      <th></th>\n",
       "      <th>sender_id</th>\n",
       "      <th>platform_id</th>\n",
       "      <th>time_stamp</th>\n",
       "      <th>gender</th>\n",
       "      <th>reg_date</th>\n",
       "    </tr>\n",
       "  </thead>\n",
       "  <tbody>\n",
       "    <tr>\n",
       "      <th>109619</th>\n",
       "      <td>3216008283</td>\n",
       "      <td>6</td>\n",
       "      <td>13.03.2017 14:25</td>\n",
       "      <td></td>\n",
       "      <td>09.03.2017</td>\n",
       "    </tr>\n",
       "    <tr>\n",
       "      <th>109620</th>\n",
       "      <td>3216008283</td>\n",
       "      <td>6</td>\n",
       "      <td>13.03.2017 7:45</td>\n",
       "      <td></td>\n",
       "      <td>09.03.2017</td>\n",
       "    </tr>\n",
       "    <tr>\n",
       "      <th>109621</th>\n",
       "      <td>3216008283</td>\n",
       "      <td>6</td>\n",
       "      <td>13.03.2017 7:45</td>\n",
       "      <td></td>\n",
       "      <td>09.03.2017</td>\n",
       "    </tr>\n",
       "    <tr>\n",
       "      <th>109622</th>\n",
       "      <td>3216008283</td>\n",
       "      <td>6</td>\n",
       "      <td>15.03.2017 21:40</td>\n",
       "      <td></td>\n",
       "      <td>09.03.2017</td>\n",
       "    </tr>\n",
       "    <tr>\n",
       "      <th>109623</th>\n",
       "      <td>3215997599</td>\n",
       "      <td>7</td>\n",
       "      <td>15.03.2017 12:54</td>\n",
       "      <td></td>\n",
       "      <td>09.03.2017</td>\n",
       "    </tr>\n",
       "    <tr>\n",
       "      <th>...</th>\n",
       "      <td>...</td>\n",
       "      <td>...</td>\n",
       "      <td>...</td>\n",
       "      <td>...</td>\n",
       "      <td>...</td>\n",
       "    </tr>\n",
       "    <tr>\n",
       "      <th>703531</th>\n",
       "      <td>3215997599</td>\n",
       "      <td>7</td>\n",
       "      <td>26.03.2017 22:19</td>\n",
       "      <td></td>\n",
       "      <td>09.03.2017</td>\n",
       "    </tr>\n",
       "    <tr>\n",
       "      <th>703532</th>\n",
       "      <td>3215997599</td>\n",
       "      <td>7</td>\n",
       "      <td>26.03.2017 22:19</td>\n",
       "      <td></td>\n",
       "      <td>09.03.2017</td>\n",
       "    </tr>\n",
       "    <tr>\n",
       "      <th>703533</th>\n",
       "      <td>3215997599</td>\n",
       "      <td>7</td>\n",
       "      <td>26.03.2017 22:19</td>\n",
       "      <td></td>\n",
       "      <td>09.03.2017</td>\n",
       "    </tr>\n",
       "    <tr>\n",
       "      <th>703534</th>\n",
       "      <td>3215997599</td>\n",
       "      <td>7</td>\n",
       "      <td>26.03.2017 22:19</td>\n",
       "      <td></td>\n",
       "      <td>09.03.2017</td>\n",
       "    </tr>\n",
       "    <tr>\n",
       "      <th>703535</th>\n",
       "      <td>3215997599</td>\n",
       "      <td>7</td>\n",
       "      <td>26.03.2017 22:19</td>\n",
       "      <td></td>\n",
       "      <td>09.03.2017</td>\n",
       "    </tr>\n",
       "  </tbody>\n",
       "</table>\n",
       "<p>171 rows × 5 columns</p>\n",
       "</div>"
      ],
      "text/plain": [
       "         sender_id  platform_id        time_stamp gender    reg_date\n",
       "109619  3216008283            6  13.03.2017 14:25         09.03.2017\n",
       "109620  3216008283            6   13.03.2017 7:45         09.03.2017\n",
       "109621  3216008283            6   13.03.2017 7:45         09.03.2017\n",
       "109622  3216008283            6  15.03.2017 21:40         09.03.2017\n",
       "109623  3215997599            7  15.03.2017 12:54         09.03.2017\n",
       "...            ...          ...               ...    ...         ...\n",
       "703531  3215997599            7  26.03.2017 22:19         09.03.2017\n",
       "703532  3215997599            7  26.03.2017 22:19         09.03.2017\n",
       "703533  3215997599            7  26.03.2017 22:19         09.03.2017\n",
       "703534  3215997599            7  26.03.2017 22:19         09.03.2017\n",
       "703535  3215997599            7  26.03.2017 22:19         09.03.2017\n",
       "\n",
       "[171 rows x 5 columns]"
      ]
     },
     "execution_count": 4,
     "metadata": {},
     "output_type": "execute_result"
    }
   ],
   "source": [
    "data.query(\"gender ==' '\")"
   ]
  },
  {
   "cell_type": "code",
   "execution_count": 5,
   "id": "0d0eb1a0",
   "metadata": {},
   "outputs": [
    {
     "data": {
      "text/plain": [
       "sender_id       int64\n",
       "platform_id     int64\n",
       "time_stamp     object\n",
       "gender         object\n",
       "reg_date       object\n",
       "dtype: object"
      ]
     },
     "execution_count": 5,
     "metadata": {},
     "output_type": "execute_result"
    }
   ],
   "source": [
    "data.dtypes"
   ]
  },
  {
   "cell_type": "code",
   "execution_count": 6,
   "id": "81dbad3d",
   "metadata": {},
   "outputs": [],
   "source": [
    "data['time_stamp'] = pd.to_datetime(data['time_stamp'], format='%d.%m.%Y %H:%M')\n",
    "data['reg_date'] = pd.to_datetime(data['reg_date'], format='%d.%m.%Y')\n",
    "data['gender'] = data['gender'].replace(' ', 'Unknown')"
   ]
  },
  {
   "cell_type": "code",
   "execution_count": 7,
   "id": "8da004fa",
   "metadata": {},
   "outputs": [
    {
     "data": {
      "text/plain": [
       "sender_id               int64\n",
       "platform_id             int64\n",
       "time_stamp     datetime64[ns]\n",
       "gender                 object\n",
       "reg_date       datetime64[ns]\n",
       "dtype: object"
      ]
     },
     "execution_count": 7,
     "metadata": {},
     "output_type": "execute_result"
    }
   ],
   "source": [
    "data.dtypes"
   ]
  },
  {
   "cell_type": "code",
   "execution_count": 8,
   "id": "f2bf182c",
   "metadata": {},
   "outputs": [],
   "source": [
    "df = data.groupby('sender_id') \\\n",
    ".aggregate({'time_stamp':'min'}) \\\n",
    ".reset_index() \\\n",
    ".rename(columns={'time_stamp':'min_time_stamp'})"
   ]
  },
  {
   "cell_type": "code",
   "execution_count": 9,
   "id": "240e6009",
   "metadata": {},
   "outputs": [
    {
     "data": {
      "text/html": [
       "<div>\n",
       "<style scoped>\n",
       "    .dataframe tbody tr th:only-of-type {\n",
       "        vertical-align: middle;\n",
       "    }\n",
       "\n",
       "    .dataframe tbody tr th {\n",
       "        vertical-align: top;\n",
       "    }\n",
       "\n",
       "    .dataframe thead th {\n",
       "        text-align: right;\n",
       "    }\n",
       "</style>\n",
       "<table border=\"1\" class=\"dataframe\">\n",
       "  <thead>\n",
       "    <tr style=\"text-align: right;\">\n",
       "      <th></th>\n",
       "      <th>sender_id</th>\n",
       "      <th>min_time_stamp</th>\n",
       "    </tr>\n",
       "  </thead>\n",
       "  <tbody>\n",
       "    <tr>\n",
       "      <th>0</th>\n",
       "      <td>3201943713</td>\n",
       "      <td>2017-03-14 23:33:00</td>\n",
       "    </tr>\n",
       "    <tr>\n",
       "      <th>1</th>\n",
       "      <td>3201946084</td>\n",
       "      <td>2017-03-13 01:16:00</td>\n",
       "    </tr>\n",
       "    <tr>\n",
       "      <th>2</th>\n",
       "      <td>3201948046</td>\n",
       "      <td>2017-03-15 01:41:00</td>\n",
       "    </tr>\n",
       "    <tr>\n",
       "      <th>3</th>\n",
       "      <td>3201948762</td>\n",
       "      <td>2017-03-13 14:21:00</td>\n",
       "    </tr>\n",
       "    <tr>\n",
       "      <th>4</th>\n",
       "      <td>3201948891</td>\n",
       "      <td>2017-03-13 01:12:00</td>\n",
       "    </tr>\n",
       "  </tbody>\n",
       "</table>\n",
       "</div>"
      ],
      "text/plain": [
       "    sender_id      min_time_stamp\n",
       "0  3201943713 2017-03-14 23:33:00\n",
       "1  3201946084 2017-03-13 01:16:00\n",
       "2  3201948046 2017-03-15 01:41:00\n",
       "3  3201948762 2017-03-13 14:21:00\n",
       "4  3201948891 2017-03-13 01:12:00"
      ]
     },
     "execution_count": 9,
     "metadata": {},
     "output_type": "execute_result"
    }
   ],
   "source": [
    "df.head()"
   ]
  },
  {
   "cell_type": "code",
   "execution_count": 10,
   "id": "8e5efc78",
   "metadata": {},
   "outputs": [],
   "source": [
    "comparison_date = pd.to_datetime('24.03.2017 16:00', format='%d.%m.%Y %H:%M')\n",
    "filtered_sender_ids = df[df['min_time_stamp'] > comparison_date]['sender_id']\n",
    "filtered_sender_ids = filtered_sender_ids.to_list()"
   ]
  },
  {
   "cell_type": "code",
   "execution_count": 11,
   "id": "1e875667",
   "metadata": {},
   "outputs": [],
   "source": [
    "data = data[data['sender_id'].isin(filtered_sender_ids)]"
   ]
  },
  {
   "cell_type": "code",
   "execution_count": 12,
   "id": "0362c8fc",
   "metadata": {},
   "outputs": [
    {
     "data": {
      "text/html": [
       "<div>\n",
       "<style scoped>\n",
       "    .dataframe tbody tr th:only-of-type {\n",
       "        vertical-align: middle;\n",
       "    }\n",
       "\n",
       "    .dataframe tbody tr th {\n",
       "        vertical-align: top;\n",
       "    }\n",
       "\n",
       "    .dataframe thead th {\n",
       "        text-align: right;\n",
       "    }\n",
       "</style>\n",
       "<table border=\"1\" class=\"dataframe\">\n",
       "  <thead>\n",
       "    <tr style=\"text-align: right;\">\n",
       "      <th></th>\n",
       "      <th>sender_id</th>\n",
       "      <th>platform_id</th>\n",
       "      <th>time_stamp</th>\n",
       "      <th>gender</th>\n",
       "      <th>reg_date</th>\n",
       "    </tr>\n",
       "  </thead>\n",
       "  <tbody>\n",
       "    <tr>\n",
       "      <th>150162</th>\n",
       "      <td>3218635027</td>\n",
       "      <td>7</td>\n",
       "      <td>2017-03-26 06:19:00</td>\n",
       "      <td>m</td>\n",
       "      <td>2017-03-23</td>\n",
       "    </tr>\n",
       "    <tr>\n",
       "      <th>150163</th>\n",
       "      <td>3218635027</td>\n",
       "      <td>7</td>\n",
       "      <td>2017-03-26 06:19:00</td>\n",
       "      <td>m</td>\n",
       "      <td>2017-03-23</td>\n",
       "    </tr>\n",
       "    <tr>\n",
       "      <th>150164</th>\n",
       "      <td>3218635027</td>\n",
       "      <td>7</td>\n",
       "      <td>2017-03-26 06:18:00</td>\n",
       "      <td>m</td>\n",
       "      <td>2017-03-23</td>\n",
       "    </tr>\n",
       "    <tr>\n",
       "      <th>150165</th>\n",
       "      <td>3218635027</td>\n",
       "      <td>7</td>\n",
       "      <td>2017-03-26 06:19:00</td>\n",
       "      <td>m</td>\n",
       "      <td>2017-03-23</td>\n",
       "    </tr>\n",
       "    <tr>\n",
       "      <th>150166</th>\n",
       "      <td>3218635027</td>\n",
       "      <td>7</td>\n",
       "      <td>2017-03-26 06:19:00</td>\n",
       "      <td>m</td>\n",
       "      <td>2017-03-23</td>\n",
       "    </tr>\n",
       "  </tbody>\n",
       "</table>\n",
       "</div>"
      ],
      "text/plain": [
       "         sender_id  platform_id          time_stamp gender   reg_date\n",
       "150162  3218635027            7 2017-03-26 06:19:00      m 2017-03-23\n",
       "150163  3218635027            7 2017-03-26 06:19:00      m 2017-03-23\n",
       "150164  3218635027            7 2017-03-26 06:18:00      m 2017-03-23\n",
       "150165  3218635027            7 2017-03-26 06:19:00      m 2017-03-23\n",
       "150166  3218635027            7 2017-03-26 06:19:00      m 2017-03-23"
      ]
     },
     "execution_count": 12,
     "metadata": {},
     "output_type": "execute_result"
    }
   ],
   "source": [
    "data.head()"
   ]
  },
  {
   "cell_type": "code",
   "execution_count": 13,
   "id": "62aaec24",
   "metadata": {},
   "outputs": [],
   "source": [
    "def group_number(id):\n",
    "    if(id%2==0):\n",
    "        return 'control'\n",
    "    elif(id%2==1):\n",
    "        return 'alternative'"
   ]
  },
  {
   "cell_type": "code",
   "execution_count": 14,
   "id": "9ed6b63c",
   "metadata": {},
   "outputs": [],
   "source": [
    "data['group'] = data['sender_id'].apply(group_number)"
   ]
  },
  {
   "cell_type": "code",
   "execution_count": 15,
   "id": "64410b54",
   "metadata": {},
   "outputs": [
    {
     "data": {
      "text/html": [
       "<div>\n",
       "<style scoped>\n",
       "    .dataframe tbody tr th:only-of-type {\n",
       "        vertical-align: middle;\n",
       "    }\n",
       "\n",
       "    .dataframe tbody tr th {\n",
       "        vertical-align: top;\n",
       "    }\n",
       "\n",
       "    .dataframe thead th {\n",
       "        text-align: right;\n",
       "    }\n",
       "</style>\n",
       "<table border=\"1\" class=\"dataframe\">\n",
       "  <thead>\n",
       "    <tr style=\"text-align: right;\">\n",
       "      <th></th>\n",
       "      <th>sender_id</th>\n",
       "      <th>platform_id</th>\n",
       "      <th>time_stamp</th>\n",
       "      <th>gender</th>\n",
       "      <th>reg_date</th>\n",
       "      <th>group</th>\n",
       "    </tr>\n",
       "  </thead>\n",
       "  <tbody>\n",
       "    <tr>\n",
       "      <th>150162</th>\n",
       "      <td>3218635027</td>\n",
       "      <td>7</td>\n",
       "      <td>2017-03-26 06:19:00</td>\n",
       "      <td>m</td>\n",
       "      <td>2017-03-23</td>\n",
       "      <td>alternative</td>\n",
       "    </tr>\n",
       "    <tr>\n",
       "      <th>150163</th>\n",
       "      <td>3218635027</td>\n",
       "      <td>7</td>\n",
       "      <td>2017-03-26 06:19:00</td>\n",
       "      <td>m</td>\n",
       "      <td>2017-03-23</td>\n",
       "      <td>alternative</td>\n",
       "    </tr>\n",
       "    <tr>\n",
       "      <th>150164</th>\n",
       "      <td>3218635027</td>\n",
       "      <td>7</td>\n",
       "      <td>2017-03-26 06:18:00</td>\n",
       "      <td>m</td>\n",
       "      <td>2017-03-23</td>\n",
       "      <td>alternative</td>\n",
       "    </tr>\n",
       "    <tr>\n",
       "      <th>150165</th>\n",
       "      <td>3218635027</td>\n",
       "      <td>7</td>\n",
       "      <td>2017-03-26 06:19:00</td>\n",
       "      <td>m</td>\n",
       "      <td>2017-03-23</td>\n",
       "      <td>alternative</td>\n",
       "    </tr>\n",
       "    <tr>\n",
       "      <th>150166</th>\n",
       "      <td>3218635027</td>\n",
       "      <td>7</td>\n",
       "      <td>2017-03-26 06:19:00</td>\n",
       "      <td>m</td>\n",
       "      <td>2017-03-23</td>\n",
       "      <td>alternative</td>\n",
       "    </tr>\n",
       "  </tbody>\n",
       "</table>\n",
       "</div>"
      ],
      "text/plain": [
       "         sender_id  platform_id          time_stamp gender   reg_date  \\\n",
       "150162  3218635027            7 2017-03-26 06:19:00      m 2017-03-23   \n",
       "150163  3218635027            7 2017-03-26 06:19:00      m 2017-03-23   \n",
       "150164  3218635027            7 2017-03-26 06:18:00      m 2017-03-23   \n",
       "150165  3218635027            7 2017-03-26 06:19:00      m 2017-03-23   \n",
       "150166  3218635027            7 2017-03-26 06:19:00      m 2017-03-23   \n",
       "\n",
       "              group  \n",
       "150162  alternative  \n",
       "150163  alternative  \n",
       "150164  alternative  \n",
       "150165  alternative  \n",
       "150166  alternative  "
      ]
     },
     "execution_count": 15,
     "metadata": {},
     "output_type": "execute_result"
    }
   ],
   "source": [
    "data.head()"
   ]
  },
  {
   "cell_type": "markdown",
   "id": "8e34f9ef",
   "metadata": {},
   "source": [
    "Розподіляємо нашу вибірку на дві групи: контрольну та альтернативну за нашим критерієм та будемо досліджувати на скільки якісне розбиття ми маємо"
   ]
  },
  {
   "cell_type": "code",
   "execution_count": 16,
   "id": "ef69416f",
   "metadata": {},
   "outputs": [],
   "source": [
    "dataA = data.query(\"group=='control'\")\n",
    "dataB = data.query(\"group=='alternative'\")\n",
    "dataA = dataA.groupby('sender_id').agg({'time_stamp': 'count', 'gender': 'first','reg_date':'first','platform_id':'first'}) \\\n",
    ".rename(columns={'time_stamp':'count'}).reset_index()\n",
    "dataB = dataB.groupby('sender_id').agg({'time_stamp': 'count', 'gender': 'first','reg_date':'first','platform_id':'first'}) \\\n",
    ".rename(columns={'time_stamp':'count'}).reset_index()"
   ]
  },
  {
   "cell_type": "code",
   "execution_count": 17,
   "id": "94d00417",
   "metadata": {},
   "outputs": [
    {
     "data": {
      "text/html": [
       "<div>\n",
       "<style scoped>\n",
       "    .dataframe tbody tr th:only-of-type {\n",
       "        vertical-align: middle;\n",
       "    }\n",
       "\n",
       "    .dataframe tbody tr th {\n",
       "        vertical-align: top;\n",
       "    }\n",
       "\n",
       "    .dataframe thead th {\n",
       "        text-align: right;\n",
       "    }\n",
       "</style>\n",
       "<table border=\"1\" class=\"dataframe\">\n",
       "  <thead>\n",
       "    <tr style=\"text-align: right;\">\n",
       "      <th></th>\n",
       "      <th>sender_id</th>\n",
       "      <th>count</th>\n",
       "      <th>gender</th>\n",
       "      <th>reg_date</th>\n",
       "      <th>platform_id</th>\n",
       "    </tr>\n",
       "  </thead>\n",
       "  <tbody>\n",
       "    <tr>\n",
       "      <th>0</th>\n",
       "      <td>3201991474</td>\n",
       "      <td>16</td>\n",
       "      <td>m</td>\n",
       "      <td>2017-01-01</td>\n",
       "      <td>7</td>\n",
       "    </tr>\n",
       "    <tr>\n",
       "      <th>1</th>\n",
       "      <td>3202020878</td>\n",
       "      <td>31</td>\n",
       "      <td>m</td>\n",
       "      <td>2017-01-01</td>\n",
       "      <td>7</td>\n",
       "    </tr>\n",
       "    <tr>\n",
       "      <th>2</th>\n",
       "      <td>3202032484</td>\n",
       "      <td>1</td>\n",
       "      <td>m</td>\n",
       "      <td>2017-01-01</td>\n",
       "      <td>6</td>\n",
       "    </tr>\n",
       "    <tr>\n",
       "      <th>3</th>\n",
       "      <td>3202037588</td>\n",
       "      <td>2</td>\n",
       "      <td>m</td>\n",
       "      <td>2017-01-01</td>\n",
       "      <td>6</td>\n",
       "    </tr>\n",
       "    <tr>\n",
       "      <th>4</th>\n",
       "      <td>3202100794</td>\n",
       "      <td>1</td>\n",
       "      <td>m</td>\n",
       "      <td>2017-01-01</td>\n",
       "      <td>7</td>\n",
       "    </tr>\n",
       "  </tbody>\n",
       "</table>\n",
       "</div>"
      ],
      "text/plain": [
       "    sender_id  count gender   reg_date  platform_id\n",
       "0  3201991474     16      m 2017-01-01            7\n",
       "1  3202020878     31      m 2017-01-01            7\n",
       "2  3202032484      1      m 2017-01-01            6\n",
       "3  3202037588      2      m 2017-01-01            6\n",
       "4  3202100794      1      m 2017-01-01            7"
      ]
     },
     "execution_count": 17,
     "metadata": {},
     "output_type": "execute_result"
    }
   ],
   "source": [
    "dataA.head()"
   ]
  },
  {
   "cell_type": "code",
   "execution_count": 18,
   "id": "b8f42c93",
   "metadata": {},
   "outputs": [
    {
     "data": {
      "text/html": [
       "<div>\n",
       "<style scoped>\n",
       "    .dataframe tbody tr th:only-of-type {\n",
       "        vertical-align: middle;\n",
       "    }\n",
       "\n",
       "    .dataframe tbody tr th {\n",
       "        vertical-align: top;\n",
       "    }\n",
       "\n",
       "    .dataframe thead th {\n",
       "        text-align: right;\n",
       "    }\n",
       "</style>\n",
       "<table border=\"1\" class=\"dataframe\">\n",
       "  <thead>\n",
       "    <tr style=\"text-align: right;\">\n",
       "      <th></th>\n",
       "      <th>sender_id</th>\n",
       "      <th>count</th>\n",
       "      <th>gender</th>\n",
       "      <th>reg_date</th>\n",
       "      <th>platform_id</th>\n",
       "    </tr>\n",
       "  </thead>\n",
       "  <tbody>\n",
       "    <tr>\n",
       "      <th>0</th>\n",
       "      <td>3202002503</td>\n",
       "      <td>1</td>\n",
       "      <td>m</td>\n",
       "      <td>2017-01-01</td>\n",
       "      <td>7</td>\n",
       "    </tr>\n",
       "    <tr>\n",
       "      <th>1</th>\n",
       "      <td>3202048369</td>\n",
       "      <td>1</td>\n",
       "      <td>m</td>\n",
       "      <td>2017-01-01</td>\n",
       "      <td>7</td>\n",
       "    </tr>\n",
       "    <tr>\n",
       "      <th>2</th>\n",
       "      <td>3202056467</td>\n",
       "      <td>1</td>\n",
       "      <td>m</td>\n",
       "      <td>2017-01-01</td>\n",
       "      <td>6</td>\n",
       "    </tr>\n",
       "    <tr>\n",
       "      <th>3</th>\n",
       "      <td>3202122785</td>\n",
       "      <td>31</td>\n",
       "      <td>m</td>\n",
       "      <td>2017-01-01</td>\n",
       "      <td>7</td>\n",
       "    </tr>\n",
       "    <tr>\n",
       "      <th>4</th>\n",
       "      <td>3202138521</td>\n",
       "      <td>21</td>\n",
       "      <td>m</td>\n",
       "      <td>2017-01-01</td>\n",
       "      <td>7</td>\n",
       "    </tr>\n",
       "  </tbody>\n",
       "</table>\n",
       "</div>"
      ],
      "text/plain": [
       "    sender_id  count gender   reg_date  platform_id\n",
       "0  3202002503      1      m 2017-01-01            7\n",
       "1  3202048369      1      m 2017-01-01            7\n",
       "2  3202056467      1      m 2017-01-01            6\n",
       "3  3202122785     31      m 2017-01-01            7\n",
       "4  3202138521     21      m 2017-01-01            7"
      ]
     },
     "execution_count": 18,
     "metadata": {},
     "output_type": "execute_result"
    }
   ],
   "source": [
    "dataB.head()"
   ]
  },
  {
   "cell_type": "code",
   "execution_count": 19,
   "id": "923d0cfb",
   "metadata": {},
   "outputs": [
    {
     "data": {
      "text/plain": [
       "Text(0.5, 1.0, 'Розподіл користувачів за статтю в контрольній групі')"
      ]
     },
     "execution_count": 19,
     "metadata": {},
     "output_type": "execute_result"
    },
    {
     "data": {
      "image/png": "[encoded data removed]",
      "text/plain": [
       "<Figure size 640x480 with 1 Axes>"
      ]
     },
     "metadata": {},
     "output_type": "display_data"
    }
   ],
   "source": [
    "sns.barplot(data= dataA.groupby('gender').aggregate({'sender_id':'count'}).reset_index().rename(columns={'sender_id':'count'})\n",
    "            ,x='gender',y='count')\n",
    "plt.title('Розподіл користувачів за статтю в контрольній групі')"
   ]
  },
  {
   "cell_type": "code",
   "execution_count": 20,
   "id": "f7a5b8f6",
   "metadata": {},
   "outputs": [
    {
     "data": {
      "text/plain": [
       "Text(0.5, 1.0, 'Розподіл користувачів за статтю в альтернативній групі')"
      ]
     },
     "execution_count": 20,
     "metadata": {},
     "output_type": "execute_result"
    },
    {
     "data": {
      "image/png": "[encoded data removed]",
      "text/plain": [
       "<Figure size 640x480 with 1 Axes>"
      ]
     },
     "metadata": {},
     "output_type": "display_data"
    }
   ],
   "source": [
    "sns.barplot(data= dataA.groupby('gender').aggregate({'sender_id':'count'}).reset_index().rename(columns={'sender_id':'count'})\n",
    "            ,x='gender',y='count')\n",
    "plt.title('Розподіл користувачів за статтю в альтернативній групі')"
   ]
  },
  {
   "cell_type": "code",
   "execution_count": 20,
   "id": "6c195ea2",
   "metadata": {},
   "outputs": [
    {
     "data": {
      "text/html": [
       "<div>\n",
       "<style scoped>\n",
       "    .dataframe tbody tr th:only-of-type {\n",
       "        vertical-align: middle;\n",
       "    }\n",
       "\n",
       "    .dataframe tbody tr th {\n",
       "        vertical-align: top;\n",
       "    }\n",
       "\n",
       "    .dataframe thead th {\n",
       "        text-align: right;\n",
       "    }\n",
       "</style>\n",
       "<table border=\"1\" class=\"dataframe\">\n",
       "  <thead>\n",
       "    <tr style=\"text-align: right;\">\n",
       "      <th></th>\n",
       "      <th>gender</th>\n",
       "      <th>count</th>\n",
       "    </tr>\n",
       "  </thead>\n",
       "  <tbody>\n",
       "    <tr>\n",
       "      <th>0</th>\n",
       "      <td>f</td>\n",
       "      <td>467</td>\n",
       "    </tr>\n",
       "    <tr>\n",
       "      <th>1</th>\n",
       "      <td>m</td>\n",
       "      <td>1221</td>\n",
       "    </tr>\n",
       "  </tbody>\n",
       "</table>\n",
       "</div>"
      ],
      "text/plain": [
       "  gender  count\n",
       "0      f    467\n",
       "1      m   1221"
      ]
     },
     "execution_count": 20,
     "metadata": {},
     "output_type": "execute_result"
    }
   ],
   "source": [
    "#Контрольна група\n",
    "dataA.groupby('gender').aggregate({'sender_id':'count'}).reset_index().rename(columns={'sender_id':'count'})"
   ]
  },
  {
   "cell_type": "code",
   "execution_count": 21,
   "id": "34306918",
   "metadata": {},
   "outputs": [
    {
     "data": {
      "text/html": [
       "<div>\n",
       "<style scoped>\n",
       "    .dataframe tbody tr th:only-of-type {\n",
       "        vertical-align: middle;\n",
       "    }\n",
       "\n",
       "    .dataframe tbody tr th {\n",
       "        vertical-align: top;\n",
       "    }\n",
       "\n",
       "    .dataframe thead th {\n",
       "        text-align: right;\n",
       "    }\n",
       "</style>\n",
       "<table border=\"1\" class=\"dataframe\">\n",
       "  <thead>\n",
       "    <tr style=\"text-align: right;\">\n",
       "      <th></th>\n",
       "      <th>gender</th>\n",
       "      <th>count</th>\n",
       "    </tr>\n",
       "  </thead>\n",
       "  <tbody>\n",
       "    <tr>\n",
       "      <th>0</th>\n",
       "      <td>f</td>\n",
       "      <td>430</td>\n",
       "    </tr>\n",
       "    <tr>\n",
       "      <th>1</th>\n",
       "      <td>m</td>\n",
       "      <td>1175</td>\n",
       "    </tr>\n",
       "  </tbody>\n",
       "</table>\n",
       "</div>"
      ],
      "text/plain": [
       "  gender  count\n",
       "0      f    430\n",
       "1      m   1175"
      ]
     },
     "execution_count": 21,
     "metadata": {},
     "output_type": "execute_result"
    }
   ],
   "source": [
    "#Альтернативна група\n",
    "dataB.groupby('gender').aggregate({'sender_id':'count'}).reset_index().rename(columns={'sender_id':'count'})"
   ]
  },
  {
   "cell_type": "markdown",
   "id": "5f6a1e6a",
   "metadata": {},
   "source": [
    "Звідси видно що розподіл чоловіків і жінок у обох групах є однаковим "
   ]
  },
  {
   "cell_type": "code",
   "execution_count": 22,
   "id": "a9bc2b80",
   "metadata": {},
   "outputs": [
    {
     "data": {
      "text/plain": [
       "Text(0.5, 1.0, 'Розподіл користувачів за платформами в контрольній групі')"
      ]
     },
     "execution_count": 22,
     "metadata": {},
     "output_type": "execute_result"
    },
    {
     "data": {
      "image/png": "[encoded data removed]",
      "text/plain": [
       "<Figure size 640x480 with 1 Axes>"
      ]
     },
     "metadata": {},
     "output_type": "display_data"
    }
   ],
   "source": [
    "sns.barplot(data= dataA.groupby('platform_id').aggregate({'sender_id':'count'}).reset_index().rename(columns={'sender_id':'count','platform_id':'platform'}).replace({6:'desktop',7:'mobile'})\n",
    "            ,x='platform',y='count')\n",
    "plt.title('Розподіл користувачів за платформами в контрольній групі')"
   ]
  },
  {
   "cell_type": "code",
   "execution_count": 23,
   "id": "6fcbd124",
   "metadata": {},
   "outputs": [
    {
     "data": {
      "text/plain": [
       "Text(0.5, 1.0, 'Розподіл користувачів за платформами в альтернативній групі')"
      ]
     },
     "execution_count": 23,
     "metadata": {},
     "output_type": "execute_result"
    },
    {
     "data": {
      "image/png": "[encoded data removed]",
      "text/plain": [
       "<Figure size 640x480 with 1 Axes>"
      ]
     },
     "metadata": {},
     "output_type": "display_data"
    }
   ],
   "source": [
    "sns.barplot(data= dataB.groupby('platform_id').aggregate({'sender_id':'count'}).reset_index().rename(columns={'sender_id':'count','platform_id':'platform'}).replace({6:'desktop',7:'mobile'})\n",
    "            ,x='platform',y='count')\n",
    "plt.title('Розподіл користувачів за платформами в альтернативній групі')"
   ]
  },
  {
   "cell_type": "code",
   "execution_count": 24,
   "id": "222ff10d",
   "metadata": {},
   "outputs": [
    {
     "data": {
      "text/html": [
       "<div>\n",
       "<style scoped>\n",
       "    .dataframe tbody tr th:only-of-type {\n",
       "        vertical-align: middle;\n",
       "    }\n",
       "\n",
       "    .dataframe tbody tr th {\n",
       "        vertical-align: top;\n",
       "    }\n",
       "\n",
       "    .dataframe thead th {\n",
       "        text-align: right;\n",
       "    }\n",
       "</style>\n",
       "<table border=\"1\" class=\"dataframe\">\n",
       "  <thead>\n",
       "    <tr style=\"text-align: right;\">\n",
       "      <th></th>\n",
       "      <th>platform</th>\n",
       "      <th>count</th>\n",
       "    </tr>\n",
       "  </thead>\n",
       "  <tbody>\n",
       "    <tr>\n",
       "      <th>0</th>\n",
       "      <td>desktop</td>\n",
       "      <td>720</td>\n",
       "    </tr>\n",
       "    <tr>\n",
       "      <th>1</th>\n",
       "      <td>mobile</td>\n",
       "      <td>968</td>\n",
       "    </tr>\n",
       "  </tbody>\n",
       "</table>\n",
       "</div>"
      ],
      "text/plain": [
       "  platform  count\n",
       "0  desktop    720\n",
       "1   mobile    968"
      ]
     },
     "execution_count": 24,
     "metadata": {},
     "output_type": "execute_result"
    }
   ],
   "source": [
    "#Контрольна група\n",
    "dataA.groupby('platform_id').aggregate({'sender_id':'count'}).reset_index().rename(columns={'sender_id':'count','platform_id':'platform'}) \\\n",
    ".replace({6:'desktop',7:'mobile'})"
   ]
  },
  {
   "cell_type": "code",
   "execution_count": 25,
   "id": "0b894cb0",
   "metadata": {},
   "outputs": [
    {
     "data": {
      "text/html": [
       "<div>\n",
       "<style scoped>\n",
       "    .dataframe tbody tr th:only-of-type {\n",
       "        vertical-align: middle;\n",
       "    }\n",
       "\n",
       "    .dataframe tbody tr th {\n",
       "        vertical-align: top;\n",
       "    }\n",
       "\n",
       "    .dataframe thead th {\n",
       "        text-align: right;\n",
       "    }\n",
       "</style>\n",
       "<table border=\"1\" class=\"dataframe\">\n",
       "  <thead>\n",
       "    <tr style=\"text-align: right;\">\n",
       "      <th></th>\n",
       "      <th>platform_id</th>\n",
       "      <th>count</th>\n",
       "    </tr>\n",
       "  </thead>\n",
       "  <tbody>\n",
       "    <tr>\n",
       "      <th>0</th>\n",
       "      <td>desktop</td>\n",
       "      <td>711</td>\n",
       "    </tr>\n",
       "    <tr>\n",
       "      <th>1</th>\n",
       "      <td>mobile</td>\n",
       "      <td>894</td>\n",
       "    </tr>\n",
       "  </tbody>\n",
       "</table>\n",
       "</div>"
      ],
      "text/plain": [
       "  platform_id  count\n",
       "0     desktop    711\n",
       "1      mobile    894"
      ]
     },
     "execution_count": 25,
     "metadata": {},
     "output_type": "execute_result"
    }
   ],
   "source": [
    "#Альтернативна група\n",
    "dataB.groupby('platform_id').aggregate({'sender_id':'count'}).reset_index().rename(columns={'sender_id':'count'}) \\\n",
    ".replace({6:'desktop',7:'mobile'})"
   ]
  },
  {
   "cell_type": "markdown",
   "id": "0adafb5c",
   "metadata": {},
   "source": [
    "Аналогічно бачимо однаковість розподілів за платформами в обох групах"
   ]
  },
  {
   "cell_type": "code",
   "execution_count": 26,
   "id": "b134f36f",
   "metadata": {},
   "outputs": [],
   "source": [
    "def create_barplot(data):\n",
    "    sns.set(style=\"whitegrid\")\n",
    "    plt.figure(figsize=(10, 6))\n",
    "    ax = sns.barplot(x='reg_date', y='count', data=data)\n",
    "    \n",
    "    # Удаление подписей дат на оси X\n",
    "    ax.set_xticklabels([])\n",
    "    \n",
    "    plt.show()"
   ]
  },
  {
   "cell_type": "markdown",
   "id": "b696e226",
   "metadata": {},
   "source": [
    "Розподіл користувачів за датами реєстрацій в контрольній групі"
   ]
  },
  {
   "cell_type": "code",
   "execution_count": 27,
   "id": "58a0569c",
   "metadata": {},
   "outputs": [
    {
     "data": {
      "image/png": "[encoded data removed]",
      "text/plain": [
       "<Figure size 1000x600 with 1 Axes>"
      ]
     },
     "metadata": {},
     "output_type": "display_data"
    }
   ],
   "source": [
    "create_barplot(dataA.groupby('reg_date').aggregate({'sender_id':'count'}).reset_index().rename(columns={'sender_id':'count'}))"
   ]
  },
  {
   "cell_type": "markdown",
   "id": "a7b60f57",
   "metadata": {},
   "source": [
    "Розподіл користувачів за датами реєстрацій в альтернативній групі"
   ]
  },
  {
   "cell_type": "code",
   "execution_count": 28,
   "id": "b2cd826f",
   "metadata": {},
   "outputs": [
    {
     "data": {
      "image/png": "[encoded data removed]",
      "text/plain": [
       "<Figure size 1000x600 with 1 Axes>"
      ]
     },
     "metadata": {},
     "output_type": "display_data"
    }
   ],
   "source": [
    "create_barplot(dataB.groupby('reg_date').aggregate({'sender_id':'count'}).reset_index().rename(columns={'sender_id':'count'}))"
   ]
  },
  {
   "cell_type": "markdown",
   "id": "667ab9f3",
   "metadata": {},
   "source": [
    "Так само бачимо що дати реєстрації людей з двох ріних груп мають однаковий розподіл, отже на підставі трьох попередніх досліджень робимо висновок що трафік був розбитий якісно "
   ]
  },
  {
   "cell_type": "code",
   "execution_count": 29,
   "id": "c6daa548",
   "metadata": {},
   "outputs": [
    {
     "name": "stdout",
     "output_type": "stream",
     "text": [
      "Середня кількість виставлених оцінок(пройдених сторінок) у контрольній групі :  11.225710900473933\n",
      "Середня кількість виставлених оцінок(пройдених сторінок) у альтернативній групі :  10.368847352024922\n"
     ]
    }
   ],
   "source": [
    "print(\"Середня кількість виставлених оцінок(пройдених сторінок) у контрольній групі : \",dataA['count'].mean())\n",
    "print(\"Середня кількість виставлених оцінок(пройдених сторінок) у альтернативній групі : \",dataB['count'].mean())"
   ]
  },
  {
   "cell_type": "code",
   "execution_count": 30,
   "id": "46d9d443",
   "metadata": {},
   "outputs": [],
   "source": [
    "t_statistic, p_value = stats.ttest_ind(dataA['count'], dataB['count'])"
   ]
  },
  {
   "cell_type": "code",
   "execution_count": 31,
   "id": "f866421a",
   "metadata": {},
   "outputs": [
    {
     "name": "stdout",
     "output_type": "stream",
     "text": [
      "p_value = 0.26820033104191565\n"
     ]
    }
   ],
   "source": [
    "print('p_value =', p_value)"
   ]
  },
  {
   "cell_type": "markdown",
   "id": "664d93c4",
   "metadata": {},
   "source": [
    "Найчастіше alpha покладається за 0.05,рідше за 0.1, але в будь-якому випадку наше p-value буде більше за alpha тобто ми не маємо причин відхилити нульову гіпотезу.\n",
    "Таким чином на основі аналізу було прийняте рішення, залишити старий інтерфейс!"
   ]
  },
  {
   "cell_type": "code",
   "execution_count": 32,
   "id": "ef7d3776",
   "metadata": {},
   "outputs": [],
   "source": [
    "def create_barplot2(data):\n",
    "    sns.set(style=\"whitegrid\")\n",
    "    plt.figure(figsize=(10, 6))\n",
    "    ax = sns.barplot(x='count', y='count_of_users', data=data)\n",
    "    \n",
    "    # Удаление подписей дат на оси X\n",
    "    ax.set_xticklabels([])\n",
    "    \n",
    "    plt.show()"
   ]
  },
  {
   "cell_type": "code",
   "execution_count": 33,
   "id": "8e2208ef",
   "metadata": {},
   "outputs": [
    {
     "data": {
      "image/png": "[encoded data removed]",
      "text/plain": [
       "<Figure size 1000x600 with 1 Axes>"
      ]
     },
     "metadata": {},
     "output_type": "display_data"
    }
   ],
   "source": [
    "create_barplot2(dataA.groupby('count').aggregate({'sender_id':'count'}).reset_index().rename(columns={'sender_id':'count_of_users'}))"
   ]
  },
  {
   "cell_type": "markdown",
   "id": "a3c6074a",
   "metadata": {},
   "source": [
    "Активність користувачів у контрольній групі"
   ]
  },
  {
   "cell_type": "code",
   "execution_count": 34,
   "id": "23c9f110",
   "metadata": {},
   "outputs": [
    {
     "data": {
      "image/png": "[encoded data removed]",
      "text/plain": [
       "<Figure size 1000x600 with 1 Axes>"
      ]
     },
     "metadata": {},
     "output_type": "display_data"
    }
   ],
   "source": [
    "create_barplot2(dataB.groupby('count').aggregate({'sender_id':'count'}).reset_index().rename(columns={'sender_id':'count_of_users'}))"
   ]
  },
  {
   "cell_type": "markdown",
   "id": "da765042",
   "metadata": {},
   "source": [
    "Активність користувачів у альтернативній групі"
   ]
  },
  {
   "cell_type": "code",
   "execution_count": null,
   "id": "4fb90a17",
   "metadata": {},
   "outputs": [],
   "source": []
  }
 ],
 "metadata": {
  "kernelspec": {
   "display_name": "Python 3 (ipykernel)",
   "language": "python",
   "name": "python3"
  },
  "language_info": {
   "codemirror_mode": {
    "name": "ipython",
    "version": 3
   },
   "file_extension": ".py",
   "mimetype": "text/x-python",
   "name": "python",
   "nbconvert_exporter": "python",
   "pygments_lexer": "ipython3",
   "version": "3.11.3"
  }
 },
 "nbformat": 4,
 "nbformat_minor": 5
}
